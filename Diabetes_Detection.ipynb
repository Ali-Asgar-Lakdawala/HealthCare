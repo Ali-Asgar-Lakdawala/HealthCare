{
  "nbformat": 4,
  "nbformat_minor": 0,
  "metadata": {
    "colab": {
      "name": "Diabetes_Detection.ipynb",
      "provenance": [],
      "authorship_tag": "ABX9TyN8vpbpXyXn1pp2M5YH23vP",
      "include_colab_link": true
    },
    "kernelspec": {
      "name": "python3",
      "display_name": "Python 3"
    },
    "language_info": {
      "name": "python"
    }
  },
  "cells": [
    {
      "cell_type": "markdown",
      "metadata": {
        "id": "view-in-github",
        "colab_type": "text"
      },
      "source": [
        "<a href=\"https://colab.research.google.com/github/Ali-Asgar-Lakdawala/HealthCare/blob/main/Diabetes_Detection.ipynb\" target=\"_parent\"><img src=\"https://colab.research.google.com/assets/colab-badge.svg\" alt=\"Open In Colab\"/></a>"
      ]
    },
    {
      "cell_type": "code",
      "execution_count": null,
      "metadata": {
        "id": "9i8Nu0EKV8_4"
      },
      "outputs": [],
      "source": [
        "import pandas as pd\n",
        "import numpy as np\n",
        "import matplotlib.pyplot as plt\n",
        "import seaborn as sns\n",
        "from sklearn.metrics import classification_report\n",
        "import time"
      ]
    },
    {
      "cell_type": "code",
      "metadata": {
        "id": "-P9ACd8bz6m5"
      },
      "source": [
        "# making a function to train the model and evaluate the model\n",
        "def train_and_score (model,X_test,X_train,y_test,y_train, best_parameter=True, best_score=True):\n",
        "  '''\n",
        "  train the model and gives mse,rmse,r2,adj r2 score of the model\n",
        "  can be used for any model where y is not transformed \n",
        "  '''\n",
        "\n",
        "  #storing the start time of model training\n",
        "  start=time.time()\n",
        "  #training the model\n",
        "  model.fit(X_train,y_train)\n",
        "  #storing the time when the model ended trining \n",
        "  stop = time.time()\n",
        "  #calculating the total time taken for model training \n",
        "  time_min=round((stop - start)/60,4)\n",
        "  # printing the time taken to train the model\n",
        "  print(f\"Training time: {time_min}min\")\n",
        "  \n",
        "  \n",
        "\n",
        "  # finding the best parameters of the model if any \n",
        "  if best_parameter==True:\n",
        "    # using try except method to avoid any error\n",
        "    try:\n",
        "      print(\"The best parameters found out to be :\" ,model.best_params_)\n",
        "    except:\n",
        "      pass\n",
        "  # finding best score of the model \n",
        "  if best_score==True:\n",
        "    try:\n",
        "      print(\" \\nwhere negative mean squared error is: \", model.best_score_,'\\n')\n",
        "    except:\n",
        "      pass\n",
        "\n",
        "\n",
        "  #predicting the values of y from x via model\n",
        "  y_pred_test = model.predict(X_test)\n",
        "  y_pred_train = model.predict(X_train)\n",
        "\n",
        "  def score (actual,predicted,append=True):\n",
        "    '''\n",
        "    calcuating diffrent score matrix of the model\n",
        "    '''\n",
        "    print('\\t\\t\\t\\tclassification report\\n','*'*80,'\\n',classification_report(actual,predicted))\n",
        "  \n",
        "# printing the score by the help of coustom score function\n",
        "  # for train set\n",
        "  print('\\t\\t\\t\\tscore matrix for train')\n",
        "  print('*'*80)\n",
        "  score(y_train,y_pred_train,False)\n",
        "  print('\\n')\n",
        "  # for test set\n",
        "  print('\\t\\t\\t\\tscore matrix for test')\n",
        "  print('*'*80)\n",
        "  score(y_test,y_pred_test)\n",
        "  return model\n"
      ],
      "execution_count": null,
      "outputs": []
    },
    {
      "cell_type": "code",
      "metadata": {
        "id": "eyOBodH_MHXB"
      },
      "source": [
        "def feature_importances_graph (model,dependent_var):\n",
        "  '''\n",
        "  shows the graph of feature importance\n",
        "  '''\n",
        "  # storing all the independent features\n",
        "  features = df.drop(dependent_var,axis=1).columns\n",
        "  # storing the feature importance of the model\n",
        "  importances = model.feature_importances_\n",
        "  # sorting the indices of the importances variable \n",
        "  indices = np.argsort(importances)\n",
        "  plt.figure(figsize=(15,5))\n",
        "  # setting the title of the graph\n",
        "  plt.title('Feature Importance')\n",
        "  # plot bar chart using cources column as y axis and values as x axis\n",
        "  plt.bar(range(len(indices)), importances[indices], align='center',)\n",
        "  # setting the y lables of the graph\n",
        "  plt.xticks(range(len(indices)), [features[i] for i in indices])\n",
        "  plt.xticks(rotation=45,ha='right');\n",
        "  # setting the x lables of the graph\n",
        "  plt.ylabel('Relative Importance')\n",
        "  # showing the graph on the screen\n",
        "  plt.show()\n",
        "\n"
      ],
      "execution_count": null,
      "outputs": []
    },
    {
      "cell_type": "code",
      "source": [
        "df=pd.read_csv('https://raw.githubusercontent.com/Ali-Asgar-Lakdawala/HealthCare/main/Data/diabetes.csv')"
      ],
      "metadata": {
        "id": "Hp0rCg_FWNzR"
      },
      "execution_count": null,
      "outputs": []
    },
    {
      "cell_type": "code",
      "source": [
        "df.head()"
      ],
      "metadata": {
        "colab": {
          "base_uri": "https://localhost:8080/",
          "height": 206
        },
        "id": "j__MwjWBWYRU",
        "outputId": "242bc1d4-4652-40bc-9fdb-3f5e9023227d"
      },
      "execution_count": null,
      "outputs": [
        {
          "output_type": "execute_result",
          "data": {
            "text/html": [
              "\n",
              "  <div id=\"df-fd551e26-1b47-4253-9573-bf15367fccc7\">\n",
              "    <div class=\"colab-df-container\">\n",
              "      <div>\n",
              "<style scoped>\n",
              "    .dataframe tbody tr th:only-of-type {\n",
              "        vertical-align: middle;\n",
              "    }\n",
              "\n",
              "    .dataframe tbody tr th {\n",
              "        vertical-align: top;\n",
              "    }\n",
              "\n",
              "    .dataframe thead th {\n",
              "        text-align: right;\n",
              "    }\n",
              "</style>\n",
              "<table border=\"1\" class=\"dataframe\">\n",
              "  <thead>\n",
              "    <tr style=\"text-align: right;\">\n",
              "      <th></th>\n",
              "      <th>Pregnancies</th>\n",
              "      <th>Glucose</th>\n",
              "      <th>BloodPressure</th>\n",
              "      <th>SkinThickness</th>\n",
              "      <th>Insulin</th>\n",
              "      <th>BMI</th>\n",
              "      <th>DiabetesPedigreeFunction</th>\n",
              "      <th>Age</th>\n",
              "      <th>Outcome</th>\n",
              "    </tr>\n",
              "  </thead>\n",
              "  <tbody>\n",
              "    <tr>\n",
              "      <th>0</th>\n",
              "      <td>6</td>\n",
              "      <td>148</td>\n",
              "      <td>72</td>\n",
              "      <td>35</td>\n",
              "      <td>0</td>\n",
              "      <td>33.6</td>\n",
              "      <td>0.627</td>\n",
              "      <td>50</td>\n",
              "      <td>1</td>\n",
              "    </tr>\n",
              "    <tr>\n",
              "      <th>1</th>\n",
              "      <td>1</td>\n",
              "      <td>85</td>\n",
              "      <td>66</td>\n",
              "      <td>29</td>\n",
              "      <td>0</td>\n",
              "      <td>26.6</td>\n",
              "      <td>0.351</td>\n",
              "      <td>31</td>\n",
              "      <td>0</td>\n",
              "    </tr>\n",
              "    <tr>\n",
              "      <th>2</th>\n",
              "      <td>8</td>\n",
              "      <td>183</td>\n",
              "      <td>64</td>\n",
              "      <td>0</td>\n",
              "      <td>0</td>\n",
              "      <td>23.3</td>\n",
              "      <td>0.672</td>\n",
              "      <td>32</td>\n",
              "      <td>1</td>\n",
              "    </tr>\n",
              "    <tr>\n",
              "      <th>3</th>\n",
              "      <td>1</td>\n",
              "      <td>89</td>\n",
              "      <td>66</td>\n",
              "      <td>23</td>\n",
              "      <td>94</td>\n",
              "      <td>28.1</td>\n",
              "      <td>0.167</td>\n",
              "      <td>21</td>\n",
              "      <td>0</td>\n",
              "    </tr>\n",
              "    <tr>\n",
              "      <th>4</th>\n",
              "      <td>0</td>\n",
              "      <td>137</td>\n",
              "      <td>40</td>\n",
              "      <td>35</td>\n",
              "      <td>168</td>\n",
              "      <td>43.1</td>\n",
              "      <td>2.288</td>\n",
              "      <td>33</td>\n",
              "      <td>1</td>\n",
              "    </tr>\n",
              "  </tbody>\n",
              "</table>\n",
              "</div>\n",
              "      <button class=\"colab-df-convert\" onclick=\"convertToInteractive('df-fd551e26-1b47-4253-9573-bf15367fccc7')\"\n",
              "              title=\"Convert this dataframe to an interactive table.\"\n",
              "              style=\"display:none;\">\n",
              "        \n",
              "  <svg xmlns=\"http://www.w3.org/2000/svg\" height=\"24px\"viewBox=\"0 0 24 24\"\n",
              "       width=\"24px\">\n",
              "    <path d=\"M0 0h24v24H0V0z\" fill=\"none\"/>\n",
              "    <path d=\"M18.56 5.44l.94 2.06.94-2.06 2.06-.94-2.06-.94-.94-2.06-.94 2.06-2.06.94zm-11 1L8.5 8.5l.94-2.06 2.06-.94-2.06-.94L8.5 2.5l-.94 2.06-2.06.94zm10 10l.94 2.06.94-2.06 2.06-.94-2.06-.94-.94-2.06-.94 2.06-2.06.94z\"/><path d=\"M17.41 7.96l-1.37-1.37c-.4-.4-.92-.59-1.43-.59-.52 0-1.04.2-1.43.59L10.3 9.45l-7.72 7.72c-.78.78-.78 2.05 0 2.83L4 21.41c.39.39.9.59 1.41.59.51 0 1.02-.2 1.41-.59l7.78-7.78 2.81-2.81c.8-.78.8-2.07 0-2.86zM5.41 20L4 18.59l7.72-7.72 1.47 1.35L5.41 20z\"/>\n",
              "  </svg>\n",
              "      </button>\n",
              "      \n",
              "  <style>\n",
              "    .colab-df-container {\n",
              "      display:flex;\n",
              "      flex-wrap:wrap;\n",
              "      gap: 12px;\n",
              "    }\n",
              "\n",
              "    .colab-df-convert {\n",
              "      background-color: #E8F0FE;\n",
              "      border: none;\n",
              "      border-radius: 50%;\n",
              "      cursor: pointer;\n",
              "      display: none;\n",
              "      fill: #1967D2;\n",
              "      height: 32px;\n",
              "      padding: 0 0 0 0;\n",
              "      width: 32px;\n",
              "    }\n",
              "\n",
              "    .colab-df-convert:hover {\n",
              "      background-color: #E2EBFA;\n",
              "      box-shadow: 0px 1px 2px rgba(60, 64, 67, 0.3), 0px 1px 3px 1px rgba(60, 64, 67, 0.15);\n",
              "      fill: #174EA6;\n",
              "    }\n",
              "\n",
              "    [theme=dark] .colab-df-convert {\n",
              "      background-color: #3B4455;\n",
              "      fill: #D2E3FC;\n",
              "    }\n",
              "\n",
              "    [theme=dark] .colab-df-convert:hover {\n",
              "      background-color: #434B5C;\n",
              "      box-shadow: 0px 1px 3px 1px rgba(0, 0, 0, 0.15);\n",
              "      filter: drop-shadow(0px 1px 2px rgba(0, 0, 0, 0.3));\n",
              "      fill: #FFFFFF;\n",
              "    }\n",
              "  </style>\n",
              "\n",
              "      <script>\n",
              "        const buttonEl =\n",
              "          document.querySelector('#df-fd551e26-1b47-4253-9573-bf15367fccc7 button.colab-df-convert');\n",
              "        buttonEl.style.display =\n",
              "          google.colab.kernel.accessAllowed ? 'block' : 'none';\n",
              "\n",
              "        async function convertToInteractive(key) {\n",
              "          const element = document.querySelector('#df-fd551e26-1b47-4253-9573-bf15367fccc7');\n",
              "          const dataTable =\n",
              "            await google.colab.kernel.invokeFunction('convertToInteractive',\n",
              "                                                     [key], {});\n",
              "          if (!dataTable) return;\n",
              "\n",
              "          const docLinkHtml = 'Like what you see? Visit the ' +\n",
              "            '<a target=\"_blank\" href=https://colab.research.google.com/notebooks/data_table.ipynb>data table notebook</a>'\n",
              "            + ' to learn more about interactive tables.';\n",
              "          element.innerHTML = '';\n",
              "          dataTable['output_type'] = 'display_data';\n",
              "          await google.colab.output.renderOutput(dataTable, element);\n",
              "          const docLink = document.createElement('div');\n",
              "          docLink.innerHTML = docLinkHtml;\n",
              "          element.appendChild(docLink);\n",
              "        }\n",
              "      </script>\n",
              "    </div>\n",
              "  </div>\n",
              "  "
            ],
            "text/plain": [
              "   Pregnancies  Glucose  BloodPressure  ...  DiabetesPedigreeFunction  Age  Outcome\n",
              "0            6      148             72  ...                     0.627   50        1\n",
              "1            1       85             66  ...                     0.351   31        0\n",
              "2            8      183             64  ...                     0.672   32        1\n",
              "3            1       89             66  ...                     0.167   21        0\n",
              "4            0      137             40  ...                     2.288   33        1\n",
              "\n",
              "[5 rows x 9 columns]"
            ]
          },
          "metadata": {},
          "execution_count": 15
        }
      ]
    },
    {
      "cell_type": "code",
      "source": [
        "df.describe()"
      ],
      "metadata": {
        "colab": {
          "base_uri": "https://localhost:8080/",
          "height": 364
        },
        "id": "oSKzUibk7GY_",
        "outputId": "4eb1b626-b513-45bf-bb3c-5b975b79cb04"
      },
      "execution_count": null,
      "outputs": [
        {
          "output_type": "execute_result",
          "data": {
            "text/html": [
              "\n",
              "  <div id=\"df-32756c0c-1f24-4f7b-945c-f657264a9eb0\">\n",
              "    <div class=\"colab-df-container\">\n",
              "      <div>\n",
              "<style scoped>\n",
              "    .dataframe tbody tr th:only-of-type {\n",
              "        vertical-align: middle;\n",
              "    }\n",
              "\n",
              "    .dataframe tbody tr th {\n",
              "        vertical-align: top;\n",
              "    }\n",
              "\n",
              "    .dataframe thead th {\n",
              "        text-align: right;\n",
              "    }\n",
              "</style>\n",
              "<table border=\"1\" class=\"dataframe\">\n",
              "  <thead>\n",
              "    <tr style=\"text-align: right;\">\n",
              "      <th></th>\n",
              "      <th>Pregnancies</th>\n",
              "      <th>Glucose</th>\n",
              "      <th>BloodPressure</th>\n",
              "      <th>SkinThickness</th>\n",
              "      <th>Insulin</th>\n",
              "      <th>BMI</th>\n",
              "      <th>DiabetesPedigreeFunction</th>\n",
              "      <th>Age</th>\n",
              "      <th>Outcome</th>\n",
              "    </tr>\n",
              "  </thead>\n",
              "  <tbody>\n",
              "    <tr>\n",
              "      <th>count</th>\n",
              "      <td>768.000000</td>\n",
              "      <td>768.000000</td>\n",
              "      <td>768.000000</td>\n",
              "      <td>768.000000</td>\n",
              "      <td>768.000000</td>\n",
              "      <td>768.000000</td>\n",
              "      <td>768.000000</td>\n",
              "      <td>768.000000</td>\n",
              "      <td>768.000000</td>\n",
              "    </tr>\n",
              "    <tr>\n",
              "      <th>mean</th>\n",
              "      <td>3.845052</td>\n",
              "      <td>120.894531</td>\n",
              "      <td>69.105469</td>\n",
              "      <td>20.536458</td>\n",
              "      <td>79.799479</td>\n",
              "      <td>31.992578</td>\n",
              "      <td>0.471876</td>\n",
              "      <td>33.240885</td>\n",
              "      <td>0.348958</td>\n",
              "    </tr>\n",
              "    <tr>\n",
              "      <th>std</th>\n",
              "      <td>3.369578</td>\n",
              "      <td>31.972618</td>\n",
              "      <td>19.355807</td>\n",
              "      <td>15.952218</td>\n",
              "      <td>115.244002</td>\n",
              "      <td>7.884160</td>\n",
              "      <td>0.331329</td>\n",
              "      <td>11.760232</td>\n",
              "      <td>0.476951</td>\n",
              "    </tr>\n",
              "    <tr>\n",
              "      <th>min</th>\n",
              "      <td>0.000000</td>\n",
              "      <td>0.000000</td>\n",
              "      <td>0.000000</td>\n",
              "      <td>0.000000</td>\n",
              "      <td>0.000000</td>\n",
              "      <td>0.000000</td>\n",
              "      <td>0.078000</td>\n",
              "      <td>21.000000</td>\n",
              "      <td>0.000000</td>\n",
              "    </tr>\n",
              "    <tr>\n",
              "      <th>25%</th>\n",
              "      <td>1.000000</td>\n",
              "      <td>99.000000</td>\n",
              "      <td>62.000000</td>\n",
              "      <td>0.000000</td>\n",
              "      <td>0.000000</td>\n",
              "      <td>27.300000</td>\n",
              "      <td>0.243750</td>\n",
              "      <td>24.000000</td>\n",
              "      <td>0.000000</td>\n",
              "    </tr>\n",
              "    <tr>\n",
              "      <th>50%</th>\n",
              "      <td>3.000000</td>\n",
              "      <td>117.000000</td>\n",
              "      <td>72.000000</td>\n",
              "      <td>23.000000</td>\n",
              "      <td>30.500000</td>\n",
              "      <td>32.000000</td>\n",
              "      <td>0.372500</td>\n",
              "      <td>29.000000</td>\n",
              "      <td>0.000000</td>\n",
              "    </tr>\n",
              "    <tr>\n",
              "      <th>75%</th>\n",
              "      <td>6.000000</td>\n",
              "      <td>140.250000</td>\n",
              "      <td>80.000000</td>\n",
              "      <td>32.000000</td>\n",
              "      <td>127.250000</td>\n",
              "      <td>36.600000</td>\n",
              "      <td>0.626250</td>\n",
              "      <td>41.000000</td>\n",
              "      <td>1.000000</td>\n",
              "    </tr>\n",
              "    <tr>\n",
              "      <th>max</th>\n",
              "      <td>17.000000</td>\n",
              "      <td>199.000000</td>\n",
              "      <td>122.000000</td>\n",
              "      <td>99.000000</td>\n",
              "      <td>846.000000</td>\n",
              "      <td>67.100000</td>\n",
              "      <td>2.420000</td>\n",
              "      <td>81.000000</td>\n",
              "      <td>1.000000</td>\n",
              "    </tr>\n",
              "  </tbody>\n",
              "</table>\n",
              "</div>\n",
              "      <button class=\"colab-df-convert\" onclick=\"convertToInteractive('df-32756c0c-1f24-4f7b-945c-f657264a9eb0')\"\n",
              "              title=\"Convert this dataframe to an interactive table.\"\n",
              "              style=\"display:none;\">\n",
              "        \n",
              "  <svg xmlns=\"http://www.w3.org/2000/svg\" height=\"24px\"viewBox=\"0 0 24 24\"\n",
              "       width=\"24px\">\n",
              "    <path d=\"M0 0h24v24H0V0z\" fill=\"none\"/>\n",
              "    <path d=\"M18.56 5.44l.94 2.06.94-2.06 2.06-.94-2.06-.94-.94-2.06-.94 2.06-2.06.94zm-11 1L8.5 8.5l.94-2.06 2.06-.94-2.06-.94L8.5 2.5l-.94 2.06-2.06.94zm10 10l.94 2.06.94-2.06 2.06-.94-2.06-.94-.94-2.06-.94 2.06-2.06.94z\"/><path d=\"M17.41 7.96l-1.37-1.37c-.4-.4-.92-.59-1.43-.59-.52 0-1.04.2-1.43.59L10.3 9.45l-7.72 7.72c-.78.78-.78 2.05 0 2.83L4 21.41c.39.39.9.59 1.41.59.51 0 1.02-.2 1.41-.59l7.78-7.78 2.81-2.81c.8-.78.8-2.07 0-2.86zM5.41 20L4 18.59l7.72-7.72 1.47 1.35L5.41 20z\"/>\n",
              "  </svg>\n",
              "      </button>\n",
              "      \n",
              "  <style>\n",
              "    .colab-df-container {\n",
              "      display:flex;\n",
              "      flex-wrap:wrap;\n",
              "      gap: 12px;\n",
              "    }\n",
              "\n",
              "    .colab-df-convert {\n",
              "      background-color: #E8F0FE;\n",
              "      border: none;\n",
              "      border-radius: 50%;\n",
              "      cursor: pointer;\n",
              "      display: none;\n",
              "      fill: #1967D2;\n",
              "      height: 32px;\n",
              "      padding: 0 0 0 0;\n",
              "      width: 32px;\n",
              "    }\n",
              "\n",
              "    .colab-df-convert:hover {\n",
              "      background-color: #E2EBFA;\n",
              "      box-shadow: 0px 1px 2px rgba(60, 64, 67, 0.3), 0px 1px 3px 1px rgba(60, 64, 67, 0.15);\n",
              "      fill: #174EA6;\n",
              "    }\n",
              "\n",
              "    [theme=dark] .colab-df-convert {\n",
              "      background-color: #3B4455;\n",
              "      fill: #D2E3FC;\n",
              "    }\n",
              "\n",
              "    [theme=dark] .colab-df-convert:hover {\n",
              "      background-color: #434B5C;\n",
              "      box-shadow: 0px 1px 3px 1px rgba(0, 0, 0, 0.15);\n",
              "      filter: drop-shadow(0px 1px 2px rgba(0, 0, 0, 0.3));\n",
              "      fill: #FFFFFF;\n",
              "    }\n",
              "  </style>\n",
              "\n",
              "      <script>\n",
              "        const buttonEl =\n",
              "          document.querySelector('#df-32756c0c-1f24-4f7b-945c-f657264a9eb0 button.colab-df-convert');\n",
              "        buttonEl.style.display =\n",
              "          google.colab.kernel.accessAllowed ? 'block' : 'none';\n",
              "\n",
              "        async function convertToInteractive(key) {\n",
              "          const element = document.querySelector('#df-32756c0c-1f24-4f7b-945c-f657264a9eb0');\n",
              "          const dataTable =\n",
              "            await google.colab.kernel.invokeFunction('convertToInteractive',\n",
              "                                                     [key], {});\n",
              "          if (!dataTable) return;\n",
              "\n",
              "          const docLinkHtml = 'Like what you see? Visit the ' +\n",
              "            '<a target=\"_blank\" href=https://colab.research.google.com/notebooks/data_table.ipynb>data table notebook</a>'\n",
              "            + ' to learn more about interactive tables.';\n",
              "          element.innerHTML = '';\n",
              "          dataTable['output_type'] = 'display_data';\n",
              "          await google.colab.output.renderOutput(dataTable, element);\n",
              "          const docLink = document.createElement('div');\n",
              "          docLink.innerHTML = docLinkHtml;\n",
              "          element.appendChild(docLink);\n",
              "        }\n",
              "      </script>\n",
              "    </div>\n",
              "  </div>\n",
              "  "
            ],
            "text/plain": [
              "       Pregnancies     Glucose  ...         Age     Outcome\n",
              "count   768.000000  768.000000  ...  768.000000  768.000000\n",
              "mean      3.845052  120.894531  ...   33.240885    0.348958\n",
              "std       3.369578   31.972618  ...   11.760232    0.476951\n",
              "min       0.000000    0.000000  ...   21.000000    0.000000\n",
              "25%       1.000000   99.000000  ...   24.000000    0.000000\n",
              "50%       3.000000  117.000000  ...   29.000000    0.000000\n",
              "75%       6.000000  140.250000  ...   41.000000    1.000000\n",
              "max      17.000000  199.000000  ...   81.000000    1.000000\n",
              "\n",
              "[8 rows x 9 columns]"
            ]
          },
          "metadata": {},
          "execution_count": 16
        }
      ]
    },
    {
      "cell_type": "code",
      "source": [
        "df.info()"
      ],
      "metadata": {
        "colab": {
          "base_uri": "https://localhost:8080/"
        },
        "id": "R1-gEQiEWZgA",
        "outputId": "944c7f5a-05f6-4e74-e3e8-6fc69e9f8cec"
      },
      "execution_count": null,
      "outputs": [
        {
          "output_type": "stream",
          "name": "stdout",
          "text": [
            "<class 'pandas.core.frame.DataFrame'>\n",
            "RangeIndex: 768 entries, 0 to 767\n",
            "Data columns (total 9 columns):\n",
            " #   Column                    Non-Null Count  Dtype  \n",
            "---  ------                    --------------  -----  \n",
            " 0   Pregnancies               768 non-null    int64  \n",
            " 1   Glucose                   768 non-null    int64  \n",
            " 2   BloodPressure             768 non-null    int64  \n",
            " 3   SkinThickness             768 non-null    int64  \n",
            " 4   Insulin                   768 non-null    int64  \n",
            " 5   BMI                       768 non-null    float64\n",
            " 6   DiabetesPedigreeFunction  768 non-null    float64\n",
            " 7   Age                       768 non-null    int64  \n",
            " 8   Outcome                   768 non-null    int64  \n",
            "dtypes: float64(2), int64(7)\n",
            "memory usage: 54.1 KB\n"
          ]
        }
      ]
    },
    {
      "cell_type": "code",
      "source": [
        "df.isnull().sum()"
      ],
      "metadata": {
        "id": "oIDkoL1ZWi1t",
        "colab": {
          "base_uri": "https://localhost:8080/"
        },
        "outputId": "62e9b56a-31f7-4b68-e5c3-2d0d5a2597fd"
      },
      "execution_count": null,
      "outputs": [
        {
          "output_type": "execute_result",
          "data": {
            "text/plain": [
              "Pregnancies                 0\n",
              "Glucose                     0\n",
              "BloodPressure               0\n",
              "SkinThickness               0\n",
              "Insulin                     0\n",
              "BMI                         0\n",
              "DiabetesPedigreeFunction    0\n",
              "Age                         0\n",
              "Outcome                     0\n",
              "dtype: int64"
            ]
          },
          "metadata": {},
          "execution_count": 18
        }
      ]
    },
    {
      "cell_type": "markdown",
      "source": [
        "so we can drop the unnamed collumn as it contains only null values and id as it has unique values"
      ],
      "metadata": {
        "id": "fZdOqACyzQRC"
      }
    },
    {
      "cell_type": "code",
      "source": [
        "sns.countplot(df[\"Outcome\"])"
      ],
      "metadata": {
        "colab": {
          "base_uri": "https://localhost:8080/",
          "height": 351
        },
        "id": "gTanEVh4zezq",
        "outputId": "7d1f1413-f080-44b5-d768-aea48475e47c"
      },
      "execution_count": null,
      "outputs": [
        {
          "output_type": "stream",
          "name": "stderr",
          "text": [
            "/usr/local/lib/python3.7/dist-packages/seaborn/_decorators.py:43: FutureWarning: Pass the following variable as a keyword arg: x. From version 0.12, the only valid positional argument will be `data`, and passing other arguments without an explicit keyword will result in an error or misinterpretation.\n",
            "  FutureWarning\n"
          ]
        },
        {
          "output_type": "execute_result",
          "data": {
            "text/plain": [
              "<matplotlib.axes._subplots.AxesSubplot at 0x7fd7a2aab8d0>"
            ]
          },
          "metadata": {},
          "execution_count": 19
        },
        {
          "output_type": "display_data",
          "data": {
            "image/png": "[encoded data removed]",
            "text/plain": [
              "<Figure size 432x288 with 1 Axes>"
            ]
          },
          "metadata": {
            "needs_background": "light"
          }
        }
      ]
    },
    {
      "cell_type": "code",
      "source": [
        "dependet_variables=list(df.columns)[:-1]\n",
        "dependet_variables"
      ],
      "metadata": {
        "colab": {
          "base_uri": "https://localhost:8080/"
        },
        "id": "nQRtRsSphF6F",
        "outputId": "bd9c62ea-4d9d-4eeb-c7de-f4c33e89e8d7"
      },
      "execution_count": null,
      "outputs": [
        {
          "output_type": "execute_result",
          "data": {
            "text/plain": [
              "['Pregnancies',\n",
              " 'Glucose',\n",
              " 'BloodPressure',\n",
              " 'SkinThickness',\n",
              " 'Insulin',\n",
              " 'BMI',\n",
              " 'DiabetesPedigreeFunction',\n",
              " 'Age']"
            ]
          },
          "metadata": {},
          "execution_count": 20
        }
      ]
    },
    {
      "cell_type": "code",
      "source": [
        "for i in dependet_variables:\n",
        "  sns.boxplot(df[i])\n",
        "  plt.show()"
      ],
      "metadata": {
        "colab": {
          "base_uri": "https://localhost:8080/",
          "height": 1000
        },
        "id": "g-DGrwDMcqZP",
        "outputId": "9e5521f7-f6cc-4729-f2df-4e465a87cc3b"
      },
      "execution_count": null,
      "outputs": [
        {
          "output_type": "stream",
          "name": "stderr",
          "text": [
            "/usr/local/lib/python3.7/dist-packages/seaborn/_decorators.py:43: FutureWarning: Pass the following variable as a keyword arg: x. From version 0.12, the only valid positional argument will be `data`, and passing other arguments without an explicit keyword will result in an error or misinterpretation.\n",
            "  FutureWarning\n"
          ]
        },
        {
          "output_type": "display_data",
          "data": {
            "image/png": "[encoded data removed]",
            "text/plain": [
              "<Figure size 432x288 with 1 Axes>"
            ]
          },
          "metadata": {
            "needs_background": "light"
          }
        },
        {
          "output_type": "stream",
          "name": "stderr",
          "text": [
            "/usr/local/lib/python3.7/dist-packages/seaborn/_decorators.py:43: FutureWarning: Pass the following variable as a keyword arg: x. From version 0.12, the only valid positional argument will be `data`, and passing other arguments without an explicit keyword will result in an error or misinterpretation.\n",
            "  FutureWarning\n"
          ]
        },
        {
          "output_type": "display_data",
          "data": {
            "image/png": "[encoded data removed]",
            "text/plain": [
              "<Figure size 432x288 with 1 Axes>"
            ]
          },
          "metadata": {
            "needs_background": "light"
          }
        },
        {
          "output_type": "stream",
          "name": "stderr",
          "text": [
            "/usr/local/lib/python3.7/dist-packages/seaborn/_decorators.py:43: FutureWarning: Pass the following variable as a keyword arg: x. From version 0.12, the only valid positional argument will be `data`, and passing other arguments without an explicit keyword will result in an error or misinterpretation.\n",
            "  FutureWarning\n"
          ]
        },
        {
          "output_type": "display_data",
          "data": {
            "image/png": "[encoded data removed]",
            "text/plain": [
              "<Figure size 432x288 with 1 Axes>"
            ]
          },
          "metadata": {
            "needs_background": "light"
          }
        },
        {
          "output_type": "stream",
          "name": "stderr",
          "text": [
            "/usr/local/lib/python3.7/dist-packages/seaborn/_decorators.py:43: FutureWarning: Pass the following variable as a keyword arg: x. From version 0.12, the only valid positional argument will be `data`, and passing other arguments without an explicit keyword will result in an error or misinterpretation.\n",
            "  FutureWarning\n"
          ]
        },
        {
          "output_type": "display_data",
          "data": {
            "image/png": "[encoded data removed]",
            "text/plain": [
              "<Figure size 432x288 with 1 Axes>"
            ]
          },
          "metadata": {
            "needs_background": "light"
          }
        },
        {
          "output_type": "stream",
          "name": "stderr",
          "text": [
            "/usr/local/lib/python3.7/dist-packages/seaborn/_decorators.py:43: FutureWarning: Pass the following variable as a keyword arg: x. From version 0.12, the only valid positional argument will be `data`, and passing other arguments without an explicit keyword will result in an error or misinterpretation.\n",
            "  FutureWarning\n"
          ]
        },
        {
          "output_type": "display_data",
          "data": {
            "image/png": "[encoded data removed]",
            "text/plain": [
              "<Figure size 432x288 with 1 Axes>"
            ]
          },
          "metadata": {
            "needs_background": "light"
          }
        },
        {
          "output_type": "stream",
          "name": "stderr",
          "text": [
            "/usr/local/lib/python3.7/dist-packages/seaborn/_decorators.py:43: FutureWarning: Pass the following variable as a keyword arg: x. From version 0.12, the only valid positional argument will be `data`, and passing other arguments without an explicit keyword will result in an error or misinterpretation.\n",
            "  FutureWarning\n"
          ]
        },
        {
          "output_type": "display_data",
          "data": {
            "image/png": "[encoded data removed]",
            "text/plain": [
              "<Figure size 432x288 with 1 Axes>"
            ]
          },
          "metadata": {
            "needs_background": "light"
          }
        },
        {
          "output_type": "stream",
          "name": "stderr",
          "text": [
            "/usr/local/lib/python3.7/dist-packages/seaborn/_decorators.py:43: FutureWarning: Pass the following variable as a keyword arg: x. From version 0.12, the only valid positional argument will be `data`, and passing other arguments without an explicit keyword will result in an error or misinterpretation.\n",
            "  FutureWarning\n"
          ]
        },
        {
          "output_type": "display_data",
          "data": {
            "image/png": "[encoded data removed]",
            "text/plain": [
              "<Figure size 432x288 with 1 Axes>"
            ]
          },
          "metadata": {
            "needs_background": "light"
          }
        },
        {
          "output_type": "stream",
          "name": "stderr",
          "text": [
            "/usr/local/lib/python3.7/dist-packages/seaborn/_decorators.py:43: FutureWarning: Pass the following variable as a keyword arg: x. From version 0.12, the only valid positional argument will be `data`, and passing other arguments without an explicit keyword will result in an error or misinterpretation.\n",
            "  FutureWarning\n"
          ]
        },
        {
          "output_type": "display_data",
          "data": {
            "image/png": "[encoded data removed]",
            "text/plain": [
              "<Figure size 432x288 with 1 Axes>"
            ]
          },
          "metadata": {
            "needs_background": "light"
          }
        }
      ]
    },
    {
      "cell_type": "code",
      "source": [
        "# removing outliers \n",
        "df=df[df['BMI']!=0]\n",
        "df=df[df['BloodPressure']!=0]\n",
        "df=df[df['SkinThickness']<60]\n",
        "df=df[df['Glucose']!=0]\n",
        "df=df[df['Insulin']<400]"
      ],
      "metadata": {
        "id": "HuWV7WTVdSp4"
      },
      "execution_count": null,
      "outputs": []
    },
    {
      "cell_type": "code",
      "source": [
        "dependet_variables=list(df.columns)[:-1]\n",
        "dependet_variables"
      ],
      "metadata": {
        "colab": {
          "base_uri": "https://localhost:8080/"
        },
        "id": "E73aG_EU86-d",
        "outputId": "7836a58b-63ba-43e2-99a2-71164cf4c247"
      },
      "execution_count": null,
      "outputs": [
        {
          "output_type": "execute_result",
          "data": {
            "text/plain": [
              "['Pregnancies',\n",
              " 'Glucose',\n",
              " 'BloodPressure',\n",
              " 'SkinThickness',\n",
              " 'Insulin',\n",
              " 'BMI',\n",
              " 'DiabetesPedigreeFunction',\n",
              " 'Age']"
            ]
          },
          "metadata": {},
          "execution_count": 23
        }
      ]
    },
    {
      "cell_type": "code",
      "source": [
        "for i in dependet_variables:\n",
        "  print(df.groupby(\"Outcome\")[i].median().reset_index(),'\\n')"
      ],
      "metadata": {
        "colab": {
          "base_uri": "https://localhost:8080/"
        },
        "id": "qKM1-XKO9PkF",
        "outputId": "1b90dc4f-1402-4bd2-8407-c0198759a6fa"
      },
      "execution_count": null,
      "outputs": [
        {
          "output_type": "stream",
          "name": "stdout",
          "text": [
            "   Outcome  Pregnancies\n",
            "0        0            2\n",
            "1        1            5 \n",
            "\n",
            "   Outcome  Glucose\n",
            "0        0      107\n",
            "1        1      138 \n",
            "\n",
            "   Outcome  BloodPressure\n",
            "0        0             70\n",
            "1        1             75 \n",
            "\n",
            "   Outcome  SkinThickness\n",
            "0        0             22\n",
            "1        1             27 \n",
            "\n",
            "   Outcome  Insulin\n",
            "0        0       44\n",
            "1        1        0 \n",
            "\n",
            "   Outcome   BMI\n",
            "0        0  30.1\n",
            "1        1  34.2 \n",
            "\n",
            "   Outcome  DiabetesPedigreeFunction\n",
            "0        0                     0.336\n",
            "1        1                     0.451 \n",
            "\n",
            "   Outcome  Age\n",
            "0        0   27\n",
            "1        1   36 \n",
            "\n"
          ]
        }
      ]
    },
    {
      "cell_type": "markdown",
      "source": [
        "by setting a threshold value to each of the parameter we can predict weather the cell is m/b or we can also use the machine learning model to get better results "
      ],
      "metadata": {
        "id": "LFzajH9fBI_p"
      }
    },
    {
      "cell_type": "code",
      "source": [
        "X=df.drop('Outcome',axis=1)\n",
        "y=df['Outcome']"
      ],
      "metadata": {
        "id": "huRgYE9A6PJ5"
      },
      "execution_count": null,
      "outputs": []
    },
    {
      "cell_type": "code",
      "source": [
        "from sklearn.model_selection import train_test_split"
      ],
      "metadata": {
        "id": "5hMkdKubBcuO"
      },
      "execution_count": null,
      "outputs": []
    },
    {
      "cell_type": "code",
      "source": [
        "X_train, X_test, y_train, y_test = train_test_split(X, y, test_size=0.25, random_state=42,stratify=y)"
      ],
      "metadata": {
        "id": "jIHCG1lqBgit"
      },
      "execution_count": null,
      "outputs": []
    },
    {
      "cell_type": "markdown",
      "source": [
        "checking weather it is divided equaly or not"
      ],
      "metadata": {
        "id": "eX1KK-mbCCaK"
      }
    },
    {
      "cell_type": "code",
      "source": [
        "y_test.value_counts()/y_test.value_counts().sum()"
      ],
      "metadata": {
        "colab": {
          "base_uri": "https://localhost:8080/"
        },
        "id": "qsAKBZCHBsbf",
        "outputId": "c021af7f-2497-4827-a25d-4341c7756400"
      },
      "execution_count": null,
      "outputs": [
        {
          "output_type": "execute_result",
          "data": {
            "text/plain": [
              "0    0.664773\n",
              "1    0.335227\n",
              "Name: Outcome, dtype: float64"
            ]
          },
          "metadata": {},
          "execution_count": 28
        }
      ]
    },
    {
      "cell_type": "code",
      "source": [
        "y_train.value_counts()/y_train.value_counts().sum()"
      ],
      "metadata": {
        "colab": {
          "base_uri": "https://localhost:8080/"
        },
        "id": "3g53fk5SByIU",
        "outputId": "87c0d4a4-635d-472b-bc8c-73ded8118b62"
      },
      "execution_count": null,
      "outputs": [
        {
          "output_type": "execute_result",
          "data": {
            "text/plain": [
              "0    0.664762\n",
              "1    0.335238\n",
              "Name: Outcome, dtype: float64"
            ]
          },
          "metadata": {},
          "execution_count": 29
        }
      ]
    },
    {
      "cell_type": "markdown",
      "source": [
        "# logestic regression"
      ],
      "metadata": {
        "id": "bLJnuMaiBZW2"
      }
    },
    {
      "cell_type": "markdown",
      "source": [
        "## scaling the data "
      ],
      "metadata": {
        "id": "hXte80B3ExXD"
      }
    },
    {
      "cell_type": "code",
      "source": [
        "from sklearn.preprocessing import MinMaxScaler"
      ],
      "metadata": {
        "id": "Nk4y7Q2uD-kL"
      },
      "execution_count": null,
      "outputs": []
    },
    {
      "cell_type": "code",
      "source": [
        "lr_scaler=MinMaxScaler()"
      ],
      "metadata": {
        "id": "oma3YAoUEFw-"
      },
      "execution_count": null,
      "outputs": []
    },
    {
      "cell_type": "code",
      "source": [
        "X_train_scaled=lr_scaler.fit_transform(X_train)\n",
        "X_test_scaled=lr_scaler.transform(X_test)"
      ],
      "metadata": {
        "id": "dUwnj5knELb0"
      },
      "execution_count": null,
      "outputs": []
    },
    {
      "cell_type": "markdown",
      "source": [
        "## model creation and evaluation"
      ],
      "metadata": {
        "id": "eOLzFROtE0_8"
      }
    },
    {
      "cell_type": "code",
      "source": [
        "from sklearn.linear_model import LogisticRegression"
      ],
      "metadata": {
        "id": "cE9sazAVBVcP"
      },
      "execution_count": null,
      "outputs": []
    },
    {
      "cell_type": "code",
      "source": [
        "lr_model=LogisticRegression()"
      ],
      "metadata": {
        "id": "I3GmydCoCpyQ"
      },
      "execution_count": null,
      "outputs": []
    },
    {
      "cell_type": "code",
      "source": [
        "lr_model=train_and_score(lr_model,X_test_scaled,X_train_scaled,y_test,y_train)"
      ],
      "metadata": {
        "colab": {
          "base_uri": "https://localhost:8080/"
        },
        "id": "24yC9OdgXCT9",
        "outputId": "1595dfd2-16c8-40ff-8b01-e23c692e1f39"
      },
      "execution_count": null,
      "outputs": [
        {
          "output_type": "stream",
          "name": "stdout",
          "text": [
            "Training time: 0.0002min\n",
            "\t\t\t\tscore matrix for train\n",
            "********************************************************************************\n",
            "\t\t\t\tclassification report\n",
            " ******************************************************************************** \n",
            "               precision    recall  f1-score   support\n",
            "\n",
            "           0       0.79      0.91      0.85       349\n",
            "           1       0.74      0.52      0.61       176\n",
            "\n",
            "    accuracy                           0.78       525\n",
            "   macro avg       0.77      0.72      0.73       525\n",
            "weighted avg       0.77      0.78      0.77       525\n",
            "\n",
            "\n",
            "\n",
            "\t\t\t\tscore matrix for test\n",
            "********************************************************************************\n",
            "\t\t\t\tclassification report\n",
            " ******************************************************************************** \n",
            "               precision    recall  f1-score   support\n",
            "\n",
            "           0       0.79      0.93      0.85       117\n",
            "           1       0.79      0.51      0.62        59\n",
            "\n",
            "    accuracy                           0.79       176\n",
            "   macro avg       0.79      0.72      0.74       176\n",
            "weighted avg       0.79      0.79      0.78       176\n",
            "\n"
          ]
        }
      ]
    },
    {
      "cell_type": "code",
      "source": [
        "from sklearn.model_selection import GridSearchCV"
      ],
      "metadata": {
        "id": "78HvPmwPUDMM"
      },
      "execution_count": null,
      "outputs": []
    },
    {
      "cell_type": "code",
      "source": [
        "param_dict = {'C': [0.001,0.01,0.1,1,10,100],'penalty': ['l2'],'max_iter':[1000]} "
      ],
      "metadata": {
        "id": "sHKV9F9cUW1c"
      },
      "execution_count": null,
      "outputs": []
    },
    {
      "cell_type": "code",
      "source": [
        "lr_model=LogisticRegression()"
      ],
      "metadata": {
        "id": "-aw-dFPFZYJx"
      },
      "execution_count": null,
      "outputs": []
    },
    {
      "cell_type": "code",
      "source": [
        "lr_grid=GridSearchCV(lr_model,param_grid=param_dict,n_jobs=-1, cv=5, verbose = 5)"
      ],
      "metadata": {
        "id": "wnQ4gzPpUNkf"
      },
      "execution_count": null,
      "outputs": []
    },
    {
      "cell_type": "code",
      "source": [
        "lr_grid.fit(X_train_scaled,y_train)"
      ],
      "metadata": {
        "colab": {
          "base_uri": "https://localhost:8080/"
        },
        "id": "kkYQi_ggnSBy",
        "outputId": "05d0ec30-86fd-4c52-e8e9-552654b79933"
      },
      "execution_count": null,
      "outputs": [
        {
          "output_type": "stream",
          "name": "stdout",
          "text": [
            "Fitting 5 folds for each of 6 candidates, totalling 30 fits\n"
          ]
        },
        {
          "output_type": "execute_result",
          "data": {
            "text/plain": [
              "GridSearchCV(cv=5, estimator=LogisticRegression(), n_jobs=-1,\n",
              "             param_grid={'C': [0.001, 0.01, 0.1, 1, 10, 100],\n",
              "                         'max_iter': [1000], 'penalty': ['l2']},\n",
              "             verbose=5)"
            ]
          },
          "metadata": {},
          "execution_count": 40
        }
      ]
    },
    {
      "cell_type": "code",
      "source": [
        "lr_grid=train_and_score(lr_grid,X_test_scaled,X_train_scaled,y_test,y_train)"
      ],
      "metadata": {
        "colab": {
          "base_uri": "https://localhost:8080/"
        },
        "id": "bNc4qliRUdvV",
        "outputId": "05dd6745-cc70-4300-9eac-f033cea5389e"
      },
      "execution_count": null,
      "outputs": [
        {
          "output_type": "stream",
          "name": "stdout",
          "text": [
            "Fitting 5 folds for each of 6 candidates, totalling 30 fits\n",
            "Training time: 0.0035min\n",
            "The best parameters found out to be : {'C': 10, 'max_iter': 1000, 'penalty': 'l2'}\n",
            " \n",
            "where negative mean squared error is:  0.7714285714285714 \n",
            "\n",
            "\t\t\t\tscore matrix for train\n",
            "********************************************************************************\n",
            "\t\t\t\tclassification report\n",
            " ******************************************************************************** \n",
            "               precision    recall  f1-score   support\n",
            "\n",
            "           0       0.80      0.90      0.85       349\n",
            "           1       0.74      0.56      0.64       176\n",
            "\n",
            "    accuracy                           0.79       525\n",
            "   macro avg       0.77      0.73      0.74       525\n",
            "weighted avg       0.78      0.79      0.78       525\n",
            "\n",
            "\n",
            "\n",
            "\t\t\t\tscore matrix for test\n",
            "********************************************************************************\n",
            "\t\t\t\tclassification report\n",
            " ******************************************************************************** \n",
            "               precision    recall  f1-score   support\n",
            "\n",
            "           0       0.80      0.91      0.85       117\n",
            "           1       0.74      0.54      0.63        59\n",
            "\n",
            "    accuracy                           0.78       176\n",
            "   macro avg       0.77      0.72      0.74       176\n",
            "weighted avg       0.78      0.78      0.77       176\n",
            "\n"
          ]
        }
      ]
    },
    {
      "cell_type": "markdown",
      "source": [
        "# svm"
      ],
      "metadata": {
        "id": "SKPQQYtME-zT"
      }
    },
    {
      "cell_type": "code",
      "source": [
        "from sklearn.svm import SVC"
      ],
      "metadata": {
        "id": "uyDZttL9FGpM"
      },
      "execution_count": null,
      "outputs": []
    },
    {
      "cell_type": "code",
      "source": [
        "svc_model=SVC()"
      ],
      "metadata": {
        "id": "Tv4pppHmFS7o"
      },
      "execution_count": null,
      "outputs": []
    },
    {
      "cell_type": "code",
      "source": [
        "svc_model_grid=train_and_score(svc_model,X_test_scaled,X_train_scaled,y_test,y_train)"
      ],
      "metadata": {
        "colab": {
          "base_uri": "https://localhost:8080/"
        },
        "id": "BM6RWjWVaEho",
        "outputId": "78446e22-3d0e-4279-9930-f36d9dd91071"
      },
      "execution_count": null,
      "outputs": [
        {
          "output_type": "stream",
          "name": "stdout",
          "text": [
            "Training time: 0.0002min\n",
            "\t\t\t\tscore matrix for train\n",
            "********************************************************************************\n",
            "\t\t\t\tclassification report\n",
            " ******************************************************************************** \n",
            "               precision    recall  f1-score   support\n",
            "\n",
            "           0       0.82      0.93      0.87       349\n",
            "           1       0.82      0.59      0.69       176\n",
            "\n",
            "    accuracy                           0.82       525\n",
            "   macro avg       0.82      0.76      0.78       525\n",
            "weighted avg       0.82      0.82      0.81       525\n",
            "\n",
            "\n",
            "\n",
            "\t\t\t\tscore matrix for test\n",
            "********************************************************************************\n",
            "\t\t\t\tclassification report\n",
            " ******************************************************************************** \n",
            "               precision    recall  f1-score   support\n",
            "\n",
            "           0       0.80      0.89      0.84       117\n",
            "           1       0.72      0.56      0.63        59\n",
            "\n",
            "    accuracy                           0.78       176\n",
            "   macro avg       0.76      0.72      0.74       176\n",
            "weighted avg       0.77      0.78      0.77       176\n",
            "\n"
          ]
        }
      ]
    },
    {
      "cell_type": "code",
      "source": [
        "svc_model=SVC()"
      ],
      "metadata": {
        "id": "3m9A5-FFjxZp"
      },
      "execution_count": null,
      "outputs": []
    },
    {
      "cell_type": "code",
      "source": [
        "param_dict_svc={'C': [0.1,1,10,100], 'kernel': ('linear', 'rbf','poly')}"
      ],
      "metadata": {
        "id": "4yDMTqy1Un64"
      },
      "execution_count": null,
      "outputs": []
    },
    {
      "cell_type": "code",
      "source": [
        "svc_grid=GridSearchCV(estimator=SVC(),param_grid=param_dict_svc,cv=5,n_jobs=-1,verbose=5)\n"
      ],
      "metadata": {
        "id": "bP-mjYxHT7oQ"
      },
      "execution_count": null,
      "outputs": []
    },
    {
      "cell_type": "code",
      "source": [
        "svc_grid_model=train_and_score(svc_grid,X_test_scaled,X_train_scaled,y_test,y_train)"
      ],
      "metadata": {
        "colab": {
          "base_uri": "https://localhost:8080/"
        },
        "id": "nT7T0cy-T2__",
        "outputId": "668b2142-6291-4437-dce4-1e6c38ed6368"
      },
      "execution_count": null,
      "outputs": [
        {
          "output_type": "stream",
          "name": "stdout",
          "text": [
            "Fitting 5 folds for each of 12 candidates, totalling 60 fits\n",
            "Training time: 0.0905min\n",
            "The best parameters found out to be : {'C': 1, 'kernel': 'poly'}\n",
            " \n",
            "where negative mean squared error is:  0.7714285714285714 \n",
            "\n",
            "\t\t\t\tscore matrix for train\n",
            "********************************************************************************\n",
            "\t\t\t\tclassification report\n",
            " ******************************************************************************** \n",
            "               precision    recall  f1-score   support\n",
            "\n",
            "           0       0.81      0.94      0.87       349\n",
            "           1       0.83      0.57      0.68       176\n",
            "\n",
            "    accuracy                           0.82       525\n",
            "   macro avg       0.82      0.76      0.77       525\n",
            "weighted avg       0.82      0.82      0.81       525\n",
            "\n",
            "\n",
            "\n",
            "\t\t\t\tscore matrix for test\n",
            "********************************************************************************\n",
            "\t\t\t\tclassification report\n",
            " ******************************************************************************** \n",
            "               precision    recall  f1-score   support\n",
            "\n",
            "           0       0.79      0.90      0.84       117\n",
            "           1       0.72      0.53      0.61        59\n",
            "\n",
            "    accuracy                           0.77       176\n",
            "   macro avg       0.76      0.71      0.72       176\n",
            "weighted avg       0.77      0.77      0.76       176\n",
            "\n"
          ]
        }
      ]
    },
    {
      "cell_type": "markdown",
      "metadata": {
        "id": "cBQfvCR414b_"
      },
      "source": [
        "---\n",
        "# KNN\n",
        "---"
      ]
    },
    {
      "cell_type": "code",
      "metadata": {
        "id": "vkKNVLMM17Jf"
      },
      "source": [
        "from sklearn.neighbors import KNeighborsClassifier"
      ],
      "execution_count": null,
      "outputs": []
    },
    {
      "cell_type": "code",
      "metadata": {
        "id": "R5xNWJiM6jyt"
      },
      "source": [
        "scaler = MinMaxScaler()"
      ],
      "execution_count": null,
      "outputs": []
    },
    {
      "cell_type": "code",
      "metadata": {
        "id": "BTAijLmV6jyu"
      },
      "source": [
        "#scaling all the feature by min max scaler\n",
        "X_train_scaled=scaler.fit_transform(X_train)\n",
        "X_test_scaled=scaler.transform(X_test)"
      ],
      "execution_count": null,
      "outputs": []
    },
    {
      "cell_type": "code",
      "metadata": {
        "colab": {
          "base_uri": "https://localhost:8080/"
        },
        "id": "7h5_bnyW6jyu",
        "outputId": "d1815a0e-7997-447a-87f3-761b579fbf1e"
      },
      "source": [
        "# creating KNN model\n",
        "knn_model = KNeighborsClassifier(n_jobs=-1)\n",
        "\n",
        "# finding the best parameters for knn_model by gridsearchcv\n",
        "param_dict={'n_neighbors':[3,5,7,9,11,13,15,21,23,25]}\n",
        "knn_grid= GridSearchCV(knn_model,param_grid=param_dict)\n",
        "\n",
        "# training and evaluating the PolynomialFeatures\n",
        "train_and_score(knn_grid,X_train_scaled, X_test_scaled, y_train, y_test)"
      ],
      "execution_count": null,
      "outputs": [
        {
          "output_type": "stream",
          "name": "stdout",
          "text": [
            "Training time: 0.0085min\n",
            "The best parameters found out to be : {'n_neighbors': 21}\n",
            " \n",
            "where negative mean squared error is:  0.777936507936508 \n",
            "\n",
            "\t\t\t\tscore matrix for train\n",
            "********************************************************************************\n",
            "\t\t\t\tclassification report\n",
            " ******************************************************************************** \n",
            "               precision    recall  f1-score   support\n",
            "\n",
            "           0       0.77      0.96      0.85       117\n",
            "           1       0.83      0.42      0.56        59\n",
            "\n",
            "    accuracy                           0.78       176\n",
            "   macro avg       0.80      0.69      0.71       176\n",
            "weighted avg       0.79      0.78      0.75       176\n",
            "\n",
            "\n",
            "\n",
            "\t\t\t\tscore matrix for test\n",
            "********************************************************************************\n",
            "\t\t\t\tclassification report\n",
            " ******************************************************************************** \n",
            "               precision    recall  f1-score   support\n",
            "\n",
            "           0       0.74      0.91      0.81       349\n",
            "           1       0.66      0.35      0.46       176\n",
            "\n",
            "    accuracy                           0.72       525\n",
            "   macro avg       0.70      0.63      0.64       525\n",
            "weighted avg       0.71      0.72      0.69       525\n",
            "\n"
          ]
        },
        {
          "output_type": "execute_result",
          "data": {
            "text/plain": [
              "GridSearchCV(estimator=KNeighborsClassifier(n_jobs=-1),\n",
              "             param_grid={'n_neighbors': [3, 5, 7, 9, 11, 13, 15, 21, 23, 25]})"
            ]
          },
          "metadata": {},
          "execution_count": 52
        }
      ]
    },
    {
      "cell_type": "markdown",
      "metadata": {
        "id": "qy_06v6825JP"
      },
      "source": [
        "---\n",
        "# Desision Tree\n",
        "---"
      ]
    },
    {
      "cell_type": "code",
      "metadata": {
        "colab": {
          "base_uri": "https://localhost:8080/"
        },
        "id": "w6uvte_dr353",
        "outputId": "2ce54818-7fcb-4d22-e030-d98a4695fe86"
      },
      "source": [
        "from sklearn.tree import DecisionTreeClassifier\n",
        "# creating DecisionTree model\n",
        "DecisionTree = DecisionTreeClassifier()\n",
        "\n",
        "# training and evaluating the DecisionTree\n",
        "train_and_score(DecisionTree,X_test, X_train, y_test, y_train)"
      ],
      "execution_count": null,
      "outputs": [
        {
          "output_type": "stream",
          "name": "stdout",
          "text": [
            "Training time: 0.0001min\n",
            "\t\t\t\tscore matrix for train\n",
            "********************************************************************************\n",
            "\t\t\t\tclassification report\n",
            " ******************************************************************************** \n",
            "               precision    recall  f1-score   support\n",
            "\n",
            "           0       1.00      1.00      1.00       349\n",
            "           1       1.00      1.00      1.00       176\n",
            "\n",
            "    accuracy                           1.00       525\n",
            "   macro avg       1.00      1.00      1.00       525\n",
            "weighted avg       1.00      1.00      1.00       525\n",
            "\n",
            "\n",
            "\n",
            "\t\t\t\tscore matrix for test\n",
            "********************************************************************************\n",
            "\t\t\t\tclassification report\n",
            " ******************************************************************************** \n",
            "               precision    recall  f1-score   support\n",
            "\n",
            "           0       0.76      0.77      0.76       117\n",
            "           1       0.53      0.51      0.52        59\n",
            "\n",
            "    accuracy                           0.68       176\n",
            "   macro avg       0.64      0.64      0.64       176\n",
            "weighted avg       0.68      0.68      0.68       176\n",
            "\n"
          ]
        },
        {
          "output_type": "execute_result",
          "data": {
            "text/plain": [
              "DecisionTreeClassifier()"
            ]
          },
          "metadata": {},
          "execution_count": 53
        }
      ]
    },
    {
      "cell_type": "code",
      "metadata": {
        "colab": {
          "base_uri": "https://localhost:8080/",
          "height": 425
        },
        "id": "4I2hHy_oetje",
        "outputId": "e4a0288e-ce28-4cfa-b881-cb398372c87a"
      },
      "source": [
        "feature_importances_graph(DecisionTree,'Outcome')"
      ],
      "execution_count": null,
      "outputs": [
        {
          "output_type": "display_data",
          "data": {
            "image/png": "[encoded data removed]",
            "text/plain": [
              "<Figure size 1080x360 with 1 Axes>"
            ]
          },
          "metadata": {
            "needs_background": "light"
          }
        }
      ]
    },
    {
      "cell_type": "markdown",
      "metadata": {
        "id": "0udFSoX_Kjzf"
      },
      "source": [
        "---\n",
        "# Random forest\n",
        "---"
      ]
    },
    {
      "cell_type": "code",
      "metadata": {
        "id": "1k3J2HGlgk9Y"
      },
      "source": [
        "from sklearn.ensemble import RandomForestClassifier"
      ],
      "execution_count": null,
      "outputs": []
    },
    {
      "cell_type": "code",
      "metadata": {
        "id": "z27xksk4hDth"
      },
      "source": [
        "# creating Random Forest Regressor model\n",
        "rfc=RandomForestClassifier(n_jobs=-1,verbose=0)"
      ],
      "execution_count": null,
      "outputs": []
    },
    {
      "cell_type": "code",
      "metadata": {
        "colab": {
          "base_uri": "https://localhost:8080/"
        },
        "id": "S8DJQm7qsdmv",
        "outputId": "573c9dc8-4ae3-4f9b-a8e5-65412eebf712"
      },
      "source": [
        "# training and evaluating the Random Forest Regressor\n",
        "train_and_score(rfc,X_test, X_train, y_test, y_train,best_parameter=True)"
      ],
      "execution_count": null,
      "outputs": [
        {
          "output_type": "stream",
          "name": "stdout",
          "text": [
            "Training time: 0.0042min\n",
            "\t\t\t\tscore matrix for train\n",
            "********************************************************************************\n",
            "\t\t\t\tclassification report\n",
            " ******************************************************************************** \n",
            "               precision    recall  f1-score   support\n",
            "\n",
            "           0       1.00      1.00      1.00       349\n",
            "           1       1.00      1.00      1.00       176\n",
            "\n",
            "    accuracy                           1.00       525\n",
            "   macro avg       1.00      1.00      1.00       525\n",
            "weighted avg       1.00      1.00      1.00       525\n",
            "\n",
            "\n",
            "\n",
            "\t\t\t\tscore matrix for test\n",
            "********************************************************************************\n",
            "\t\t\t\tclassification report\n",
            " ******************************************************************************** \n",
            "               precision    recall  f1-score   support\n",
            "\n",
            "           0       0.78      0.84      0.81       117\n",
            "           1       0.62      0.53      0.57        59\n",
            "\n",
            "    accuracy                           0.73       176\n",
            "   macro avg       0.70      0.68      0.69       176\n",
            "weighted avg       0.72      0.73      0.73       176\n",
            "\n"
          ]
        },
        {
          "output_type": "execute_result",
          "data": {
            "text/plain": [
              "RandomForestClassifier(n_jobs=-1)"
            ]
          },
          "metadata": {},
          "execution_count": 57
        }
      ]
    },
    {
      "cell_type": "markdown",
      "metadata": {
        "id": "WqyxIM0DNXjT"
      },
      "source": [
        "## implimenting grid search random forest\n",
        "---"
      ]
    },
    {
      "cell_type": "code",
      "metadata": {
        "id": "GOEx--DXUsNF"
      },
      "source": [
        "# creating RandomForestRegressor model\n",
        "rfc=RandomForestClassifier()"
      ],
      "execution_count": null,
      "outputs": []
    },
    {
      "cell_type": "code",
      "metadata": {
        "colab": {
          "base_uri": "https://localhost:8080/"
        },
        "id": "7GbtolOWeQ0F",
        "outputId": "92130bfe-21a1-41fc-a653-f8202f83dd16"
      },
      "source": [
        "rfc.get_params"
      ],
      "execution_count": null,
      "outputs": [
        {
          "output_type": "execute_result",
          "data": {
            "text/plain": [
              "<bound method BaseEstimator.get_params of RandomForestClassifier()>"
            ]
          },
          "metadata": {},
          "execution_count": 59
        }
      ]
    },
    {
      "cell_type": "code",
      "metadata": {
        "id": "R9jBcHOBrZ71"
      },
      "source": [
        "# finding the best parameters for knn_model by gridsearchcv\n",
        "grid_values_rf = {'n_estimators': [125,150,200],'max_depth': [3,5,7,10],'criterion': ['entropy']}\n",
        "rfc_grid = GridSearchCV(estimator=rfc,param_grid = grid_values_rf,cv=5,verbose=5,n_jobs=-1)"
      ],
      "execution_count": null,
      "outputs": []
    },
    {
      "cell_type": "code",
      "metadata": {
        "colab": {
          "base_uri": "https://localhost:8080/"
        },
        "id": "vw-lHy63bxDg",
        "outputId": "ec87ae53-4abf-438c-932d-59aead3319ff"
      },
      "source": [
        "# training and evaluating the Random Forest Regressor\n",
        "train_and_score(rfc_grid,X_train, X_test, y_train, y_test)"
      ],
      "execution_count": null,
      "outputs": [
        {
          "output_type": "stream",
          "name": "stdout",
          "text": [
            "Fitting 5 folds for each of 12 candidates, totalling 60 fits\n",
            "Training time: 0.2189min\n",
            "The best parameters found out to be : {'criterion': 'entropy', 'max_depth': 3, 'n_estimators': 150}\n",
            " \n",
            "where negative mean squared error is:  0.7838095238095237 \n",
            "\n",
            "\t\t\t\tscore matrix for train\n",
            "********************************************************************************\n",
            "\t\t\t\tclassification report\n",
            " ******************************************************************************** \n",
            "               precision    recall  f1-score   support\n",
            "\n",
            "           0       0.83      0.97      0.90       117\n",
            "           1       0.92      0.61      0.73        59\n",
            "\n",
            "    accuracy                           0.85       176\n",
            "   macro avg       0.88      0.79      0.82       176\n",
            "weighted avg       0.86      0.85      0.84       176\n",
            "\n",
            "\n",
            "\n",
            "\t\t\t\tscore matrix for test\n",
            "********************************************************************************\n",
            "\t\t\t\tclassification report\n",
            " ******************************************************************************** \n",
            "               precision    recall  f1-score   support\n",
            "\n",
            "           0       0.77      0.92      0.84       349\n",
            "           1       0.74      0.45      0.56       176\n",
            "\n",
            "    accuracy                           0.76       525\n",
            "   macro avg       0.75      0.68      0.70       525\n",
            "weighted avg       0.76      0.76      0.74       525\n",
            "\n"
          ]
        },
        {
          "output_type": "execute_result",
          "data": {
            "text/plain": [
              "GridSearchCV(cv=5, estimator=RandomForestClassifier(), n_jobs=-1,\n",
              "             param_grid={'criterion': ['entropy'], 'max_depth': [3, 5, 7, 10],\n",
              "                         'n_estimators': [125, 150, 200]},\n",
              "             verbose=5)"
            ]
          },
          "metadata": {},
          "execution_count": 61
        }
      ]
    },
    {
      "cell_type": "code",
      "metadata": {
        "colab": {
          "base_uri": "https://localhost:8080/",
          "height": 425
        },
        "id": "8aqHMIbSed4N",
        "outputId": "6a79832b-1b40-46af-805a-4d8ac468390e"
      },
      "source": [
        "feature_importances_graph(rfc_grid.best_estimator_,'Outcome')"
      ],
      "execution_count": null,
      "outputs": [
        {
          "output_type": "display_data",
          "data": {
            "image/png": "[encoded data removed]",
            "text/plain": [
              "<Figure size 1080x360 with 1 Axes>"
            ]
          },
          "metadata": {
            "needs_background": "light"
          }
        }
      ]
    },
    {
      "cell_type": "markdown",
      "metadata": {
        "id": "xgR8YnjLbcAD"
      },
      "source": [
        "---\n",
        "#XGboost\n",
        "---"
      ]
    },
    {
      "cell_type": "code",
      "metadata": {
        "id": "LOrYta-CcgwI"
      },
      "source": [
        "from xgboost import XGBClassifier"
      ],
      "execution_count": null,
      "outputs": []
    },
    {
      "cell_type": "code",
      "metadata": {
        "id": "ZP2HDqMEcPWa"
      },
      "source": [
        "# creating XGBRegressor model\n",
        "xgbc=XGBClassifier()"
      ],
      "execution_count": null,
      "outputs": []
    },
    {
      "cell_type": "code",
      "metadata": {
        "colab": {
          "base_uri": "https://localhost:8080/"
        },
        "id": "a_xukeSLjNId",
        "outputId": "5730f4f6-2b94-4883-f3e4-24062996c9f2"
      },
      "source": [
        "# training and evaluating the xgb_grid\n",
        "train_and_score(xgbc,X_test, X_train, y_test, y_train)"
      ],
      "execution_count": null,
      "outputs": [
        {
          "output_type": "stream",
          "name": "stdout",
          "text": [
            "Training time: 0.001min\n",
            "\t\t\t\tscore matrix for train\n",
            "********************************************************************************\n",
            "\t\t\t\tclassification report\n",
            " ******************************************************************************** \n",
            "               precision    recall  f1-score   support\n",
            "\n",
            "           0       0.94      0.95      0.95       349\n",
            "           1       0.91      0.88      0.89       176\n",
            "\n",
            "    accuracy                           0.93       525\n",
            "   macro avg       0.92      0.92      0.92       525\n",
            "weighted avg       0.93      0.93      0.93       525\n",
            "\n",
            "\n",
            "\n",
            "\t\t\t\tscore matrix for test\n",
            "********************************************************************************\n",
            "\t\t\t\tclassification report\n",
            " ******************************************************************************** \n",
            "               precision    recall  f1-score   support\n",
            "\n",
            "           0       0.80      0.85      0.83       117\n",
            "           1       0.66      0.59      0.62        59\n",
            "\n",
            "    accuracy                           0.76       176\n",
            "   macro avg       0.73      0.72      0.73       176\n",
            "weighted avg       0.76      0.76      0.76       176\n",
            "\n"
          ]
        },
        {
          "output_type": "execute_result",
          "data": {
            "text/plain": [
              "XGBClassifier()"
            ]
          },
          "metadata": {},
          "execution_count": 65
        }
      ]
    },
    {
      "cell_type": "code",
      "metadata": {
        "colab": {
          "base_uri": "https://localhost:8080/"
        },
        "id": "ChzauGx3yyc2",
        "outputId": "18a380d5-39d3-4b5b-96eb-a3a2d7554b05"
      },
      "source": [
        "xgbc.get_params"
      ],
      "execution_count": null,
      "outputs": [
        {
          "output_type": "execute_result",
          "data": {
            "text/plain": [
              "<bound method XGBModel.get_params of XGBClassifier()>"
            ]
          },
          "metadata": {},
          "execution_count": 66
        }
      ]
    },
    {
      "cell_type": "markdown",
      "metadata": {
        "id": "_kijouVP3hHK"
      },
      "source": [
        "## implimenting grid search xgb\n",
        "---"
      ]
    },
    {
      "cell_type": "code",
      "metadata": {
        "id": "3GbdBF9Md56J"
      },
      "source": [
        "# finding the best parameters for XGBRegressor by gridsearchcv\n",
        "xgbc_param={'n_estimators': [100,125,150],'max_depth': [3,5,7],'criterion': ['entropy']}\n",
        "xgbc_grid=GridSearchCV(estimator=xgbc,param_grid=xgbc_param,cv=5,scoring='recall',verbose=5,n_jobs=-1)"
      ],
      "execution_count": null,
      "outputs": []
    },
    {
      "cell_type": "code",
      "metadata": {
        "colab": {
          "base_uri": "https://localhost:8080/"
        },
        "id": "h3IEw41rlr_o",
        "outputId": "6a55b241-c5b6-4367-ec18-a3edf2fbf461"
      },
      "source": [
        "# training and evaluating the xgb_grid\n",
        "train_and_score(xgbc_grid,X_test, X_train, y_test, y_train)"
      ],
      "execution_count": null,
      "outputs": [
        {
          "output_type": "stream",
          "name": "stdout",
          "text": [
            "Fitting 5 folds for each of 9 candidates, totalling 45 fits\n",
            "Training time: 0.0443min\n",
            "The best parameters found out to be : {'criterion': 'entropy', 'max_depth': 7, 'n_estimators': 125}\n",
            " \n",
            "where negative mean squared error is:  0.6593650793650794 \n",
            "\n",
            "\t\t\t\tscore matrix for train\n",
            "********************************************************************************\n",
            "\t\t\t\tclassification report\n",
            " ******************************************************************************** \n",
            "               precision    recall  f1-score   support\n",
            "\n",
            "           0       1.00      1.00      1.00       349\n",
            "           1       1.00      1.00      1.00       176\n",
            "\n",
            "    accuracy                           1.00       525\n",
            "   macro avg       1.00      1.00      1.00       525\n",
            "weighted avg       1.00      1.00      1.00       525\n",
            "\n",
            "\n",
            "\n",
            "\t\t\t\tscore matrix for test\n",
            "********************************************************************************\n",
            "\t\t\t\tclassification report\n",
            " ******************************************************************************** \n",
            "               precision    recall  f1-score   support\n",
            "\n",
            "           0       0.79      0.79      0.79       117\n",
            "           1       0.59      0.59      0.59        59\n",
            "\n",
            "    accuracy                           0.73       176\n",
            "   macro avg       0.69      0.69      0.69       176\n",
            "weighted avg       0.73      0.73      0.73       176\n",
            "\n"
          ]
        },
        {
          "output_type": "execute_result",
          "data": {
            "text/plain": [
              "GridSearchCV(cv=5, estimator=XGBClassifier(), n_jobs=-1,\n",
              "             param_grid={'criterion': ['entropy'], 'max_depth': [3, 5, 7],\n",
              "                         'n_estimators': [100, 125, 150]},\n",
              "             scoring='recall', verbose=5)"
            ]
          },
          "metadata": {},
          "execution_count": 68
        }
      ]
    },
    {
      "cell_type": "code",
      "metadata": {
        "colab": {
          "base_uri": "https://localhost:8080/",
          "height": 425
        },
        "id": "XGlhWdzPbYpW",
        "outputId": "e5033997-35ff-4d2f-a942-e2246ac860a7"
      },
      "source": [
        "feature_importances_graph(xgbc_grid.best_estimator_,'Outcome')"
      ],
      "execution_count": null,
      "outputs": [
        {
          "output_type": "display_data",
          "data": {
            "image/png": "[encoded data removed]",
            "text/plain": [
              "<Figure size 1080x360 with 1 Axes>"
            ]
          },
          "metadata": {
            "needs_background": "light"
          }
        }
      ]
    },
    {
      "cell_type": "markdown",
      "metadata": {
        "id": "ySPDwBh7dFon"
      },
      "source": [
        "---\n",
        "# lightGBM\n",
        "---"
      ]
    },
    {
      "cell_type": "code",
      "metadata": {
        "id": "FEUBZVS3eftM"
      },
      "source": [
        "import lightgbm as lgb"
      ],
      "execution_count": null,
      "outputs": []
    },
    {
      "cell_type": "code",
      "metadata": {
        "id": "LZxcCDAmdH_C"
      },
      "source": [
        "lgbc=lgb.LGBMClassifier()"
      ],
      "execution_count": null,
      "outputs": []
    },
    {
      "cell_type": "code",
      "metadata": {
        "id": "zpGvu7VCILB2",
        "colab": {
          "base_uri": "https://localhost:8080/"
        },
        "outputId": "d3afd856-8eee-4882-d60f-f7c818b1c0a7"
      },
      "source": [
        "# training and evaluating the lgbr_grid\n",
        "train_and_score(lgbc, X_test, X_train, y_test, y_train)"
      ],
      "execution_count": null,
      "outputs": [
        {
          "output_type": "stream",
          "name": "stdout",
          "text": [
            "Training time: 0.0008min\n",
            " \n",
            "where negative mean squared error is:  defaultdict(<class 'dict'>, {}) \n",
            "\n",
            "\t\t\t\tscore matrix for train\n",
            "********************************************************************************\n",
            "\t\t\t\tclassification report\n",
            " ******************************************************************************** \n",
            "               precision    recall  f1-score   support\n",
            "\n",
            "           0       1.00      1.00      1.00       349\n",
            "           1       1.00      1.00      1.00       176\n",
            "\n",
            "    accuracy                           1.00       525\n",
            "   macro avg       1.00      1.00      1.00       525\n",
            "weighted avg       1.00      1.00      1.00       525\n",
            "\n",
            "\n",
            "\n",
            "\t\t\t\tscore matrix for test\n",
            "********************************************************************************\n",
            "\t\t\t\tclassification report\n",
            " ******************************************************************************** \n",
            "               precision    recall  f1-score   support\n",
            "\n",
            "           0       0.79      0.81      0.80       117\n",
            "           1       0.61      0.58      0.59        59\n",
            "\n",
            "    accuracy                           0.73       176\n",
            "   macro avg       0.70      0.69      0.70       176\n",
            "weighted avg       0.73      0.73      0.73       176\n",
            "\n"
          ]
        },
        {
          "output_type": "execute_result",
          "data": {
            "text/plain": [
              "LGBMClassifier()"
            ]
          },
          "metadata": {},
          "execution_count": 72
        }
      ]
    },
    {
      "cell_type": "code",
      "metadata": {
        "id": "iaUplSrmd3ou"
      },
      "source": [
        "# finding the best parameters for XGBRegressor by gridsearchcv\n",
        "lgbc_para={'n_estimators': [100,125,150],'max_depth': [3,5,7]}\n",
        "lgbc_grid=GridSearchCV(estimator=lgbc,param_grid=lgbc_para,cv=5,scoring='recall',verbose=5,n_jobs=-1)"
      ],
      "execution_count": null,
      "outputs": []
    },
    {
      "cell_type": "code",
      "metadata": {
        "id": "H_Va2rO3ezpF",
        "colab": {
          "base_uri": "https://localhost:8080/"
        },
        "outputId": "bcb39e00-31c3-4ad8-e442-26cceca869f9"
      },
      "source": [
        "# training and evaluating the lgbr_grid\n",
        "train_and_score(lgbc_grid,X_test, X_train, y_test, y_train)"
      ],
      "execution_count": null,
      "outputs": [
        {
          "output_type": "stream",
          "name": "stdout",
          "text": [
            "Fitting 5 folds for each of 9 candidates, totalling 45 fits\n",
            "Training time: 0.0278min\n",
            "The best parameters found out to be : {'max_depth': 7, 'n_estimators': 100}\n",
            " \n",
            "where negative mean squared error is:  0.6485714285714286 \n",
            "\n",
            "\t\t\t\tscore matrix for train\n",
            "********************************************************************************\n",
            "\t\t\t\tclassification report\n",
            " ******************************************************************************** \n",
            "               precision    recall  f1-score   support\n",
            "\n",
            "           0       1.00      1.00      1.00       349\n",
            "           1       1.00      1.00      1.00       176\n",
            "\n",
            "    accuracy                           1.00       525\n",
            "   macro avg       1.00      1.00      1.00       525\n",
            "weighted avg       1.00      1.00      1.00       525\n",
            "\n",
            "\n",
            "\n",
            "\t\t\t\tscore matrix for test\n",
            "********************************************************************************\n",
            "\t\t\t\tclassification report\n",
            " ******************************************************************************** \n",
            "               precision    recall  f1-score   support\n",
            "\n",
            "           0       0.78      0.82      0.80       117\n",
            "           1       0.60      0.54      0.57        59\n",
            "\n",
            "    accuracy                           0.73       176\n",
            "   macro avg       0.69      0.68      0.69       176\n",
            "weighted avg       0.72      0.73      0.72       176\n",
            "\n"
          ]
        },
        {
          "output_type": "execute_result",
          "data": {
            "text/plain": [
              "GridSearchCV(cv=5, estimator=LGBMClassifier(), n_jobs=-1,\n",
              "             param_grid={'max_depth': [3, 5, 7],\n",
              "                         'n_estimators': [100, 125, 150]},\n",
              "             scoring='recall', verbose=5)"
            ]
          },
          "metadata": {},
          "execution_count": 74
        }
      ]
    },
    {
      "cell_type": "code",
      "metadata": {
        "id": "7N6Qou8RhQ3Q",
        "colab": {
          "base_uri": "https://localhost:8080/",
          "height": 425
        },
        "outputId": "3346fd69-7c44-445d-81e5-5feb817f6de2"
      },
      "source": [
        "feature_importances_graph(lgbc_grid.best_estimator_,'Outcome')"
      ],
      "execution_count": null,
      "outputs": [
        {
          "output_type": "display_data",
          "data": {
            "image/png": "[encoded data removed]",
            "text/plain": [
              "<Figure size 1080x360 with 1 Axes>"
            ]
          },
          "metadata": {
            "needs_background": "light"
          }
        }
      ]
    },
    {
      "cell_type": "markdown",
      "source": [
        "# saving the model"
      ],
      "metadata": {
        "id": "rwwn_fcl8T1l"
      }
    },
    {
      "cell_type": "code",
      "source": [
        "import pickle"
      ],
      "metadata": {
        "id": "YDOeW36GfIr6"
      },
      "execution_count": null,
      "outputs": []
    },
    {
      "cell_type": "code",
      "source": [
        "filename='Diabetes_detection.pkl'"
      ],
      "metadata": {
        "id": "RZEiMFW9fS8s"
      },
      "execution_count": null,
      "outputs": []
    },
    {
      "cell_type": "code",
      "source": [
        "#save\n",
        "with open(filename,'wb') as f:\n",
        "    pickle.dump(rfc_grid,f)"
      ],
      "metadata": {
        "id": "AjqFb-B5fQ2Q"
      },
      "execution_count": null,
      "outputs": []
    },
    {
      "cell_type": "code",
      "source": [
        "# load\n",
        "with open(filename ,'rb') as f:\n",
        "    clf2 = pickle.load(f)"
      ],
      "metadata": {
        "id": "gWF7xaN5ilLJ"
      },
      "execution_count": null,
      "outputs": []
    },
    {
      "cell_type": "code",
      "source": [
        ""
      ],
      "metadata": {
        "id": "Jv-hg3egjZPP"
      },
      "execution_count": null,
      "outputs": []
    }
  ]
}